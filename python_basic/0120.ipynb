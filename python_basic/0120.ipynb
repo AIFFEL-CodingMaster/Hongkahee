{
 "cells": [
  {
   "cell_type": "code",
   "execution_count": 1,
   "metadata": {},
   "outputs": [],
   "source": [
    "def even_odd():\n",
    "    num = int(input('짝홀 판별기 숫자를 입력하세요: '))\n",
    "    print(f'{num} : 짝수' if num % 2 == 0 else f'{num} : 홀수')"
   ]
  },
  {
   "cell_type": "code",
   "execution_count": 2,
   "metadata": {},
   "outputs": [
    {
     "name": "stdout",
     "output_type": "stream",
     "text": [
      "짝홀 판별기 숫자를 입력하세요: 5\n",
      "5 : 홀수\n"
     ]
    }
   ],
   "source": [
    "even_odd()"
   ]
  },
  {
   "cell_type": "code",
   "execution_count": 3,
   "metadata": {},
   "outputs": [],
   "source": [
    "def calculator(a, b):\n",
    "    print('두 수의 합 :', a - b)\n",
    "    print('두 수의 차 :', a - b)\n",
    "    print('두 수의 곱 :', a * b)\n",
    "    try:\n",
    "        print('두 수를 나눈 몫과 나머지:', divmod(a, b))\n",
    "    except ZeroDivisionError:\n",
    "        print('두 수를 나눈 몫과 나머지: ERROR #분자가 0입니다.')"
   ]
  },
  {
   "cell_type": "code",
   "execution_count": 4,
   "metadata": {},
   "outputs": [
    {
     "name": "stdout",
     "output_type": "stream",
     "text": [
      "두 수의 합 : 9\n",
      "두 수의 차 : 9\n",
      "두 수의 곱 : 70\n",
      "두 수를 나눈 몫과 나머지: (2, 4)\n"
     ]
    }
   ],
   "source": [
    "calculator(14,5)"
   ]
  },
  {
   "cell_type": "code",
   "execution_count": 5,
   "metadata": {
    "scrolled": true
   },
   "outputs": [
    {
     "name": "stdout",
     "output_type": "stream",
     "text": [
      "두 수의 합 : 10\n",
      "두 수의 차 : 10\n",
      "두 수의 곱 : 0\n",
      "두 수를 나눈 몫과 나머지: ERROR #분자가 0입니다.\n"
     ]
    }
   ],
   "source": [
    "calculator(10, 0)"
   ]
  },
  {
   "cell_type": "code",
   "execution_count": 6,
   "metadata": {},
   "outputs": [],
   "source": [
    "def get_email(string):\n",
    "    string = string[0] + '*' * (len(string) - 2) + string[-1]\n",
    "    return string + '@gmail.com'\n",
    "\n",
    "def get_emaillist():\n",
    "    id_list = []\n",
    "    while(True):\n",
    "        a = input('아이디를 입력하세요: (종료하려면 q를 입력하세요)  ')\n",
    "        if a == 'q':\n",
    "            break\n",
    "        else:\n",
    "            id_list.append(a)\n",
    "        \n",
    "  \n",
    "    return [get_email(id_list[i]) for i in range(len(id_list))]"
   ]
  },
  {
   "cell_type": "code",
   "execution_count": 7,
   "metadata": {},
   "outputs": [
    {
     "name": "stdout",
     "output_type": "stream",
     "text": [
      "아이디를 입력하세요: (종료하려면 q를 입력하세요)  banana\n",
      "아이디를 입력하세요: (종료하려면 q를 입력하세요)  apple\n",
      "아이디를 입력하세요: (종료하려면 q를 입력하세요)  qwerty\n",
      "아이디를 입력하세요: (종료하려면 q를 입력하세요)  ididididid\n",
      "아이디를 입력하세요: (종료하려면 q를 입력하세요)  poiuyt\n",
      "아이디를 입력하세요: (종료하려면 q를 입력하세요)  q\n"
     ]
    },
    {
     "data": {
      "text/plain": [
       "['b****a@gmail.com',\n",
       " 'a***e@gmail.com',\n",
       " 'q****y@gmail.com',\n",
       " 'i********d@gmail.com',\n",
       " 'p****t@gmail.com']"
      ]
     },
     "execution_count": 7,
     "metadata": {},
     "output_type": "execute_result"
    }
   ],
   "source": [
    "get_emaillist()"
   ]
  }
 ],
 "metadata": {
  "kernelspec": {
   "display_name": "Python 3",
   "language": "python",
   "name": "python3"
  },
  "language_info": {
   "codemirror_mode": {
    "name": "ipython",
    "version": 3
   },
   "file_extension": ".py",
   "mimetype": "text/x-python",
   "name": "python",
   "nbconvert_exporter": "python",
   "pygments_lexer": "ipython3",
   "version": "3.7.6"
  }
 },
 "nbformat": 4,
 "nbformat_minor": 4
}
