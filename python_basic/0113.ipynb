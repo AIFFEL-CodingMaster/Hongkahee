{
 "cells": [
  {
   "cell_type": "code",
   "execution_count": 2,
   "metadata": {},
   "outputs": [
    {
     "name": "stdout",
     "output_type": "stream",
     "text": [
      "이름 \n",
      " 영어이름 \n",
      " 01000000000\n"
     ]
    }
   ],
   "source": [
    "name = '이름'\n",
    "eng_name = '영어이름'\n",
    "phone_number = '01000000000'\n",
    "\n",
    "print(name,'\\n', eng_name,'\\n', phone_number)"
   ]
  },
  {
   "cell_type": "code",
   "execution_count": 3,
   "metadata": {},
   "outputs": [
    {
     "name": "stdout",
     "output_type": "stream",
     "text": [
      "나는 12시에 집에 밥먹으러 간다.\n"
     ]
    }
   ],
   "source": [
    "when = 12\n",
    "where = \"집\"\n",
    "why = \"밥먹으러\"\n",
    "print(f\"나는 {when}시에 {where}에 {why} 간다.\")"
   ]
  },
  {
   "cell_type": "code",
   "execution_count": 4,
   "metadata": {},
   "outputs": [
    {
     "name": "stdout",
     "output_type": "stream",
     "text": [
      "20\n",
      "5.0\n",
      "0\n",
      "5\n",
      "1\n"
     ]
    }
   ],
   "source": [
    "a = 10\n",
    "b = 2\n",
    "\n",
    "print(a * b)\n",
    "print(a / b)\n",
    "print(a % b)\n",
    "\n",
    "a = 11\n",
    "print(a // b)\n",
    "print(a % b)"
   ]
  },
  {
   "cell_type": "code",
   "execution_count": 14,
   "metadata": {},
   "outputs": [
    {
     "name": "stdout",
     "output_type": "stream",
     "text": [
      "2\n",
      "2단\n",
      "2 x 1 = 2\n",
      "2 x 2 = 4\n",
      "2 x 3 = 6\n",
      "2 x 4 = 8\n",
      "2 x 5 = 10\n",
      "2 x 6 = 12\n",
      "2 x 7 = 14\n",
      "2 x 8 = 16\n",
      "2 x 9 = 18\n"
     ]
    }
   ],
   "source": [
    "num = int(input())\n",
    "print(f'{num}단')\n",
    "print(f'{num} x 1 = {num*1}')\n",
    "print(f'{num} x 2 = {num*2}')\n",
    "print(f'{num} x 3 = {num*3}')\n",
    "print(f'{num} x 4 = {num*4}')\n",
    "print(f'{num} x 5 = {num*5}')\n",
    "print(f'{num} x 6 = {num*6}')\n",
    "print(f'{num} x 7 = {num*7}')\n",
    "print(f'{num} x 8 = {num*8}')\n",
    "print(f'{num} x 9 = {num*9}')"
   ]
  },
  {
   "cell_type": "code",
   "execution_count": 16,
   "metadata": {},
   "outputs": [
    {
     "name": "stdout",
     "output_type": "stream",
     "text": [
      "[1, 2, 3, 4, 5, 5]\n",
      "[1, 2, 3, 4, 5]\n"
     ]
    }
   ],
   "source": [
    "a = [1, 2, 3, 4 ,5]\n",
    "a.append(5)\n",
    "print(a)\n",
    "a.pop()\n",
    "print(a)"
   ]
  },
  {
   "cell_type": "code",
   "execution_count": 24,
   "metadata": {},
   "outputs": [
    {
     "name": "stdout",
     "output_type": "stream",
     "text": [
      "{1, 2, 3, 4}\n"
     ]
    }
   ],
   "source": [
    "set_a = {1,1,2,2,3,4}\n",
    "print(set_a)"
   ]
  },
  {
   "cell_type": "code",
   "execution_count": 25,
   "metadata": {},
   "outputs": [
    {
     "name": "stdout",
     "output_type": "stream",
     "text": [
      "{1, 2, 3, 4, 5}\n",
      "{1, 4, 5}\n"
     ]
    }
   ],
   "source": [
    "set_a.add(5)\n",
    "print(set_a)\n",
    "set_a = set_a - {2, 3}\n",
    "print(set_a)"
   ]
  },
  {
   "cell_type": "code",
   "execution_count": 28,
   "metadata": {},
   "outputs": [
    {
     "name": "stdout",
     "output_type": "stream",
     "text": [
      "{1, 5}\n"
     ]
    }
   ],
   "source": [
    "b = {4}\n",
    "print(set_a-b)"
   ]
  },
  {
   "cell_type": "code",
   "execution_count": 33,
   "metadata": {},
   "outputs": [],
   "source": [
    "list = [1,2,3,4,5,6,7,8,9]\n",
    "sum = sum(list)"
   ]
  },
  {
   "cell_type": "code",
   "execution_count": 34,
   "metadata": {},
   "outputs": [
    {
     "name": "stdout",
     "output_type": "stream",
     "text": [
      "45\n",
      "100보다 작음\n"
     ]
    }
   ],
   "source": [
    "if sum < 100:\n",
    "    print(sum)\n",
    "    print('100보다 작음')"
   ]
  },
  {
   "cell_type": "code",
   "execution_count": 36,
   "metadata": {},
   "outputs": [],
   "source": [
    "if sum > 100:\n",
    "    print('실행 안 됨')"
   ]
  },
  {
   "cell_type": "code",
   "execution_count": 37,
   "metadata": {},
   "outputs": [
    {
     "name": "stdout",
     "output_type": "stream",
     "text": [
      "list_3 :  [1, 2, 3, 4, 5, 6, 7, 8, 9]\n"
     ]
    }
   ],
   "source": [
    "list_3 = [1,2,3,4,5,6,7,8,9]\n",
    "if len(list_3) < 10:\n",
    "    print(\"list_3 : \", list_3)"
   ]
  },
  {
   "cell_type": "code",
   "execution_count": 38,
   "metadata": {},
   "outputs": [
    {
     "name": "stdout",
     "output_type": "stream",
     "text": [
      "type of a : set\n"
     ]
    }
   ],
   "source": [
    "a = {1,2,3}\n",
    "if type(a) == set:\n",
    "    print('type of a : set')"
   ]
  },
  {
   "cell_type": "code",
   "execution_count": 39,
   "metadata": {},
   "outputs": [
    {
     "name": "stdout",
     "output_type": "stream",
     "text": [
      "곧 끝나는 루프\n",
      "곧 끝나는 루프\n",
      "곧 끝나는 루프\n",
      "곧 끝나는 루프\n",
      "곧 끝나는 루프\n",
      "곧 끝나는 루프\n",
      "곧 끝나는 루프\n",
      "곧 끝나는 루프\n",
      "곧 끝나는 루프\n",
      "곧 끝나는 루프\n"
     ]
    }
   ],
   "source": [
    "n = 10\n",
    "while n > 0:\n",
    "    print(\"곧 끝나는 루프\")\n",
    "    n = n - 1"
   ]
  },
  {
   "cell_type": "code",
   "execution_count": 40,
   "metadata": {},
   "outputs": [
    {
     "name": "stdout",
     "output_type": "stream",
     "text": [
      "n :  10\n",
      "n :  9\n",
      "n :  8\n",
      "n :  7\n",
      "n :  6\n"
     ]
    }
   ],
   "source": [
    "n = 10 \n",
    "while n > 0:\n",
    "    print(\"n : \", n)\n",
    "    n = n - 1\n",
    "    if n == 5:\n",
    "        break"
   ]
  },
  {
   "cell_type": "code",
   "execution_count": null,
   "metadata": {},
   "outputs": [],
   "source": []
  }
 ],
 "metadata": {
  "kernelspec": {
   "display_name": "Python 3",
   "language": "python",
   "name": "python3"
  },
  "language_info": {
   "codemirror_mode": {
    "name": "ipython",
    "version": 3
   },
   "file_extension": ".py",
   "mimetype": "text/x-python",
   "name": "python",
   "nbconvert_exporter": "python",
   "pygments_lexer": "ipython3",
   "version": "3.7.1"
  }
 },
 "nbformat": 4,
 "nbformat_minor": 4
}
